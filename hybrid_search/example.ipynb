{
 "cells": [
  {
   "cell_type": "markdown",
   "metadata": {},
   "source": [
    "## 基于 MyScale 的混合搜索\n",
    "\n",
    "这篇示例将介绍如何使用基于 MyScale 联合查询的技术来提升用户文本搜索体检。"
   ]
  },
  {
   "cell_type": "code",
   "execution_count": null,
   "metadata": {},
   "outputs": [],
   "source": [
    "!pip3 install clickhouse-connect prettytable sentence-transformers"
   ]
  },
  {
   "cell_type": "markdown",
   "metadata": {},
   "source": [
    "在进行实验之前, 我们需要在 [MyScale](https://myscale.com/) 官网注册并创建一个免费的 Cluster, 具体流程如下:\n",
    "- Step1. 在 [MyScale](https://myscale.com/) 点击 `Free Sign Up` 注册账号并跳转到 [控制台](https://console.myscale.com/clusters)。\n",
    "- Step2. 在控制台界面点击 `New Cluster` 创建一个免费的集群, 给自己的 `Cluster` 命名后保持默认设置即可点击 `Next` 创建集群。\n",
    "- Step3. 在 `Cluster` 的 `Actions` 下拉菜单内找到 `Connection Details` 按钮, 点击之后将会看到集群连接信息。\n",
    "\n",
    "我们需要将上述获得的集群连接信息填写到下面第一个 `Code Block` 内, 依次为 `host`、`username`、`password`。"
   ]
  },
  {
   "cell_type": "code",
   "execution_count": 9,
   "metadata": {},
   "outputs": [],
   "source": [
    "import time\n",
    "import uuid\n",
    "import clickhouse_connect\n",
    "from clickhouse_connect.driver.client import Client\n",
    "from prettytable import PrettyTable\n",
    "from sentence_transformers import SentenceTransformer\n",
    "\n",
    "# MyScale connection information.\n",
    "host = \"msc-c6548c32.us-east-1.aws.staging.myscale.cloud\"\n",
    "username = \"demo\"\n",
    "password = \"myscale_rocks\"\n",
    "\n",
    "port = 443\n",
    "database = \"test\"\n",
    "table = \"wiki_abstract_50w_1\"\n",
    "dataset_rows = 500000\n",
    "dataset_url = \"https://myscale-example-datasets.s3.amazonaws.com/wiki_abstract_with_vector_50w.parquet\"\n",
    "\n",
    "\n",
    "# get_client function is used to get a MyScale client.\n",
    "def get_client(_host: str, _port: int, _username: str, _password: str) -> Client:\n",
    "    return clickhouse_connect.get_client(host=_host, port=_port, user=_username, password=_password,\n",
    "                                         session_id=str(uuid.uuid4()), send_receive_timeout=30)\n",
    "\n",
    "# Print your content in table view.\n",
    "def print_results(result_rows, field_names):\n",
    "    x = PrettyTable()\n",
    "    x.field_names = field_names\n",
    "    for row in result_rows:\n",
    "        x.add_row(row)\n",
    "    x.set_style(13)\n",
    "    print(x)\n",
    "\n",
    "# Initialize MyScale client.\n",
    "client = get_client(host, port, username, password)\n",
    "\n",
    "# Use transformer all-MiniLM-L6-v2\n",
    "model = SentenceTransformer('sentence-transformers/all-MiniLM-L6-v2')"
   ]
  },
  {
   "cell_type": "markdown",
   "metadata": {},
   "source": [
    "在制作数据集的过程中, 我们修改了 RedisSearch 维护的 `Wikipedia abstract dataset`, 使用 [sentence-transformers/all-MiniLM-L6-v2](https://huggingface.co/sentence-transformers/all-MiniLM-L6-v2) 模型将数据集内 `body` 列转换为 `384 dim` 的向量数据, 向量相似度距离计算为 `Cosine`。\n",
    "\n",
    "本次试验使用了该数据集内 [500K 子数据](https://myscale-example-datasets.s3.amazonaws.com/wiki_abstract_with_vector_50w.parquet)。\n",
    "\n",
    "首先, 我们需要在集群上创建 Table 并导入数据。"
   ]
  },
  {
   "cell_type": "code",
   "execution_count": 10,
   "metadata": {},
   "outputs": [
    {
     "name": "stdout",
     "output_type": "stream",
     "text": [
      "Tables in cluster:[('wiki_abstract_50w',), ('wiki_abstract_50w_1',)]\n",
      "Start uploading data from S3 to MyScale.\n",
      "Rows in Table:500000\n"
     ]
    }
   ],
   "source": [
    "# Recreate a table.\n",
    "client.command(f\"DROP TABLE IF EXISTS {database}.{table} sync;\")\n",
    "client.command(f\"\"\"CREATE TABLE {database}.{table}\n",
    "(\n",
    "    `id` UInt64,\n",
    "    `body` String,\n",
    "    `title` String,\n",
    "    `url` String,\n",
    "    `body_vector` Array(Float32),\n",
    "    CONSTRAINT check_length CHECK length(body_vector) = 384\n",
    ")\n",
    "ENGINE = MergeTree\n",
    "ORDER BY id;\"\"\")\n",
    "print(f\"Tables in cluster:{client.query(f'SHOW TABLES IN {database}').result_rows}\")\n",
    "\n",
    "# Upload data from S3.\n",
    "time_upload_data_begin = time.time()\n",
    "try:\n",
    "    print(f\"Start uploading data from S3 to MyScale.\")\n",
    "    client.command(f\"INSERT INTO {database}.{table} SELECT * FROM s3('{dataset_url}','Parquet');\")\n",
    "except Exception as e:\n",
    "    print(\"Upload data from S3 to MyScale may need more time.\")\n",
    "    _client = get_client(host, port, username, password)\n",
    "    while True:\n",
    "        rows_count = _client.query(f\"SELECT count(*) from {database}.{table}\").result_rows[0][0]\n",
    "        print(f\"\\rRows in Table:{rows_count}, time consume:{(time.time() - time_upload_data_begin):.2f} sec.\", end='', flush=True)\n",
    "        if rows_count >= dataset_rows:\n",
    "            print(\"\\nData has been uploaded completely.\")\n",
    "            break\n",
    "        time.sleep(3)\n",
    "print(f\"Rows in Table:{client.query(f'SELECT count(*) from {database}.{table}').result_rows[0][0]}\")\n"
   ]
  },
  {
   "cell_type": "markdown",
   "metadata": {},
   "source": [
    "数据集导入完毕后我们需要建立向量索引, 这可以加速向量搜索的过程。"
   ]
  },
  {
   "cell_type": "code",
   "execution_count": 11,
   "metadata": {},
   "outputs": [
    {
     "name": "stdout",
     "output_type": "stream",
     "text": [
      "Building vector index, status is Built, time consume:67.55 sec. sec.\n",
      "Total index build time consume:67.55 sec.\n"
     ]
    }
   ],
   "source": [
    "# Create a vector index.\n",
    "time_build_index_begin = time.time()\n",
    "client.command(f\"OPTIMIZE TABLE {database}.{table} FINAL;\")\n",
    "client.command(f\"ALTER TABLE {database}.{table} DROP VECTOR INDEX IF EXISTS WIKI_MSTG;\")\n",
    "client.command(f\"ALTER TABLE {database}.{table} ADD VECTOR INDEX WIKI_MSTG body_vector TYPE MSTG('metric_type=Cosine');\")\n",
    "while True:\n",
    "    try:\n",
    "        status = client.query(f\"SELECT status FROM system.vector_indices WHERE database = '{database}' AND table = '{table}'\").result_rows[0][0]\n",
    "        print(f\"\\rBuilding vector index, status is {status}, time consume:{time.time() - time_build_index_begin:.2f} sec\", end='.', flush=True)\n",
    "        if status == 'Built':\n",
    "            break\n",
    "        time.sleep(1)\n",
    "    except Exception as e:\n",
    "        print(f\"Exception happened when getting vector index build status, {e}\")\n",
    "print(f\"\\nTotal index build time consume:{(time.time() - time_build_index_begin):.2f} sec.\")\n"
   ]
  },
  {
   "cell_type": "markdown",
   "metadata": {},
   "source": [
    "向量搜索在短文本搜索中会发生语义不足的现象, 比如我们将文本 `\"Islands discovered by BGLE\"` 转换成为向量进行搜索, 我们将会得到以下结果, 这些结果并非我们期待的文章。\n",
    "真正我们期望找到的岛屿应该是被这个组织发现的：\n",
    "<iframe\n",
    "\tsrc=\"https://en.wikipedia.org/wiki/British_Graham_Land_expedition\"\n",
    "\tframeborder=\"0\"\n",
    "\twidth=\"1080\"\n",
    "\theight=\"500\"\n",
    "></iframe>"
   ]
  },
  {
   "cell_type": "code",
   "execution_count": 20,
   "metadata": {},
   "outputs": [
    {
     "name": "stdout",
     "output_type": "stream",
     "text": [
      "|   ID   |          Title          |                  Body                  |   vector_distance   |\n",
      "|:------:|:-----------------------:|:--------------------------------------:|:-------------------:|\n",
      "| 11161  |    Rendezvous Islands   | | archipelago      = Discovery Islands | 0.34810376167297363 |\n",
      "| 11158  |       Read Island       | | archipelago      = Discovery Islands | 0.34810376167297363 |\n",
      "| 314932 |      Quadra Island      | | archipelago      = Discovery Islands | 0.34810376167297363 |\n",
      "| 127502 |       Saint Kitts       |    | archipelago = Leeward Islands     |  0.3779163360595703 |\n",
      "| 123268 | Geography of Montserrat |  | archipelago      = Leeward Islands  |  0.3779163360595703 |\n"
     ]
    }
   ],
   "source": [
    "# Hybrid Search\n",
    "terms = \"Islands discovered by BGLE\"\n",
    "terms_embedding = model.encode([terms])[0]\n",
    "extracted_terms = 'BGLE Island'\n",
    "extracted_terms_pattern = [f'(?i){x}' for x in extracted_terms.split(' ')]\n",
    "\n",
    "# Stage 1. Vector Recall\n",
    "stage1 = f\"\"\"\n",
    "SELECT id, title, body, distance('alpha=1') (body_vector,{list(terms_embedding)}) AS distance FROM {database}.{table}\n",
    "ORDER BY distance ASC LIMIT 200\"\"\"\n",
    "\n",
    "stage1_result = client.query(query=stage1)\n",
    "print_results(stage1_result.result_rows[:5], [\"ID\", \"Title\", \"Body\", \"vector_distance\"])\n"
   ]
  },
  {
   "cell_type": "markdown",
   "metadata": {},
   "source": [
    "显然，这个结果精确度不够高\n",
    "<iframe\n",
    "\tsrc=\"https://en.wikipedia.org/wiki/Rendezvous_Islands\"\n",
    "\tframeborder=\"0\"\n",
    "\twidth=\"1080\"\n",
    "\theight=\"200\"\n",
    "></iframe>\n",
    "<iframe\n",
    "\tsrc=\"https://en.wikipedia.org/wiki/Read_Island\"\n",
    "\tframeborder=\"0\"\n",
    "\twidth=\"1080\"\n",
    "\theight=\"200\"\n",
    "></iframe>\n",
    "<iframe\n",
    "\tsrc=\"https://en.wikipedia.org/wiki/Quadra_Island \"\n",
    "\tframeborder=\"0\"\n",
    "\twidth=\"1080\"\n",
    "\theight=\"200\"\n",
    "></iframe>\n",
    "\n",
    "\n",
    "我们考虑采用联合查询的方法去提升短文本/单词的搜索精度, 比如对于短文本 `\"BGLE Island\"`, 我们会分为两个阶段达成我们的目标:\n",
    "- 使用向量搜索先获得 `200` 个候选结果。\n",
    "- 使用 MyScale 内置的函数实现一个简化版的 `TF-IDF` 方法来对候选结果重排序。\n",
    "\n",
    "运行下述 `Code Block` 可以看到结果已经符合我们的预期。"
   ]
  },
  {
   "cell_type": "code",
   "execution_count": 21,
   "metadata": {},
   "outputs": [
    {
     "name": "stdout",
     "output_type": "stream",
     "text": [
      "Hybrid search time consume:0.27 sec.\n",
      "\n",
      "\n",
      "|   ID   |          Title           |                                                                                                                                                                                                      Body                                                                                                                                                                                                     | MATCH_COUNT |       TF_IDF       |\n",
      "|:------:|:------------------------:|:-------------------------------------------------------------------------------------------------------------------------------------------------------------------------------------------------------------------------------------------------------------------------------------------------------------------------------------------------------------------------------------------------------------:|:-----------:|:------------------:|\n",
      "| 50978  |      Trump Islands       |                                                                              Trump Islands () is a small group of islands lying 4 nautical miles (7 km) southwest of Dodman Island, off the west coast of Graham Land. The islands were discovered and named by the British Graham Land Expedition (BGLE), 1934–37, under Rymill.                                                                             |      2      | 1.945910148700207  |\n",
      "| 50899  |     Trigonia Island      |                                                            Trigonia Island () is a small island immediately off the south tip of Beer Island, lying 8 nautical miles (15 km) west of Prospect Point, off the west coast of Graham Land, Antarctica.  It was charted and named by the British Graham Land Expedition (BGLE), 1934–37, under Rymill.                                                            |      2      | 1.7917594699409376 |\n",
      "| 330665 |      Riddle Islands      |                                                                                                Riddle Islands () is a small group of islands lying off the southwest end of Chavez Island, off the west coast of Graham Land. First charted by the British Graham Land Expedition (BGLE) under Rymill, 1934-37.                                                                                               |      2      | 1.7917594699409376 |\n",
      "| 197443 |      Tadpole Island      |                                                                                                                    Tadpole Island () is an island just north of Ferin Head, off the west coast of Graham Land. Charted by the British Graham Land Expedition (BGLE) under Rymill, 1934-37.                                                                                                                    |      2      | 1.6094379132876024 |\n",
      "| 200245 |      Salmon Island       |                                                                                                                 Salmon Island () is the westernmost of the Fish Islands, lying off the west coast of Graham Land. Charted by the British Graham Land Expedition (BGLE) under Rymill, 1934-37.                                                                                                                 |      2      | 1.6094379132876024 |\n",
      "| 466090 | The Narrows (Antarctica) |                                                         The Narrows () is a narrow channel between Pourquoi Pas Island and Blaiklock Island, connecting Bigourdan Fjord and Bourgeois Fjord off the west coast of Graham Land. It was discovered and given this descriptive name by the British Graham Land Expedition (BGLE), 1934–37, under Rymill.                                                         |      2      | 1.3862943611198906 |\n",
      "| 202830 |        Sooty Rock        |                                                                                                            Sooty Rock () is a rock midway between Lumus Rock and Betheder Islands in Wilhelm Archipelago. Discovered and named \"Black Reef\" by the British Graham Land Expedition (BGLE), 1934-37.                                                                                                            |      2      | 1.0986122893809924 |\n",
      "| 54946  |      Fowler Islands      | The Fowler Islands () are a group of small islands lying between the Bernal Islands and the Bragg Islands in Crystal Sound, off the coast of Antarctica. They were mapped from air photos obtained by the Ronne Antarctic Research Expedition (1947–48) and the Falkland Islands and Dependencies Aerial Survey Expedition (1956–57), and from surveys by the Falkland Islands Dependencies Survey (1958–59). |      1      | 2.0794415416798357 |\n",
      "| 327803 |        Te Islands        |                                             Te Islands () is a three small islands and several rocks lying close together just south of Ongul Island in the Flatvaer Islands. The three main islands were mapped as one by Norwegian cartographers, working from air photos taken by the Lars Christensen Expedition of 1936-37, and named Teoya (the tea island).                                            |      1      | 2.0794415416798357 |\n",
      "| 327780 |       Tau Islands        |                Tau Islands () is a small group of islands and rocks which lie immediately off the northeast extremity of Eta Island in the Melchior Islands, Palmer Archipelago. The name, derived from the 19th letter of the Greek alphabet, appears to have been first used on a 1946 Argentine government chart following surveys of the islands by Argentine expeditions in 1942 and 1943.               |      1      | 1.945910148700207  |\n"
     ]
    }
   ],
   "source": [
    "\n",
    "# Stage 2. Term Reranking\n",
    "stage2 = f\"\"\"\n",
    "SELECT tempt.id, tempt.title,tempt.body, FQ, TF_IDF FROM ({stage1}) tempt\n",
    "ORDER BY length(multiMatchAllIndices(arrayStringConcat([body, title], ' '), {extracted_terms_pattern})) AS FQ DESC,\n",
    "log(1 + countMatches(arrayStringConcat([title, body], ' '), '(?i)({extracted_terms.replace(' ', '|')})')) AS TF_IDF DESC limit 10\n",
    "\"\"\"\n",
    "\n",
    "time_hybrid_search_begin = time.time()\n",
    "stage2_result = client.query(query=stage2)\n",
    "print(f\"Hybrid search time consume:{time.time() - time_hybrid_search_begin:.2f} sec.\\n\\n\")\n",
    "print_results(stage2_result.result_rows, [\"ID\", \"Title\", \"Body\", \"MATCH_COUNT\", \"TF_IDF\"])"
   ]
  },
  {
   "cell_type": "code",
   "execution_count": null,
   "metadata": {},
   "outputs": [],
   "source": []
  }
 ],
 "metadata": {
  "kernelspec": {
   "display_name": "myTools",
   "language": "python",
   "name": "python3"
  },
  "language_info": {
   "codemirror_mode": {
    "name": "ipython",
    "version": 3
   },
   "file_extension": ".py",
   "mimetype": "text/x-python",
   "name": "python",
   "nbconvert_exporter": "python",
   "pygments_lexer": "ipython3",
   "version": "3.8.8"
  }
 },
 "nbformat": 4,
 "nbformat_minor": 2
}
