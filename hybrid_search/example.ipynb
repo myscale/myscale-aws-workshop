{
 "cells": [
  {
   "cell_type": "markdown",
   "metadata": {},
   "source": [
    "## Hybrid Search in MyScale\n",
    "\n",
    "This guide introduces the benefits of using hybrid search to improve your text search experience and provides instructions on implementing it with MyScale.\n",
    "\n",
    "You need to provide your MyScale Cluster connection information within the first code block."
   ]
  },
  {
   "cell_type": "code",
   "execution_count": 32,
   "metadata": {},
   "outputs": [],
   "source": [
    "import time\n",
    "import uuid\n",
    "import clickhouse_connect\n",
    "from clickhouse_connect.driver.client import Client\n",
    "from prettytable import PrettyTable\n",
    "from sentence_transformers import SentenceTransformer\n",
    "\n",
    "# MyScale connection information.\n",
    "host = \"your cluster end_point\"\n",
    "port = 443\n",
    "username = \"your username\"\n",
    "password = \"your password\"\n",
    "database = \"default\"\n",
    "table = \"wiki_abstract_50w\"\n",
    "dataset_rows = 500000\n",
    "dataset_url = \"https://myscale-example-datasets.s3.amazonaws.com/wiki_abstract_with_vector_50w.parquet\"\n",
    "\n",
    "\n",
    "# get_client function is used to get a MyScale client.\n",
    "def get_client(_host: str, _port: int, _username: str, _password: str) -> Client:\n",
    "    return clickhouse_connect.get_client(host=_host, port=_port, user=_username, password=_password,\n",
    "                                         session_id=str(uuid.uuid4()), send_receive_timeout=30)\n",
    "\n",
    "# Print your content in table view.\n",
    "def print_results(result_rows, field_names):\n",
    "    x = PrettyTable()\n",
    "    x.field_names = field_names\n",
    "    for row in result_rows:\n",
    "        x.add_row(row)\n",
    "    x.set_style(13)\n",
    "    print(x)\n",
    "\n",
    "# Initialize MyScale client.\n",
    "client = get_client(host, port, username, password)\n",
    "\n",
    "# Use transformer all-MiniLM-L6-v2\n",
    "model = SentenceTransformer('sentence-transformers/all-MiniLM-L6-v2')"
   ]
  },
  {
   "cell_type": "markdown",
   "metadata": {},
   "source": [
    "We have improved the [Wikipedia abstract dataset](https://myscale-example-datasets.s3.amazonaws.com/wiki_abstract_with_vector_50w.parquet) hosted by RedisSearch by including vector data. We used `sentence-transformers/all-MiniLM-L6-v2` to convert the text in the `body` column into 384-dimensional vectors. These vectors are stored in the `body_vector` column, and cosine is used to calculate the distance between them.\n",
    "\n",
    "First, we need to create a table."
   ]
  },
  {
   "cell_type": "code",
   "execution_count": 33,
   "metadata": {},
   "outputs": [
    {
     "name": "stdout",
     "output_type": "stream",
     "text": [
      "Tables in cluster:[('rd0',), ('wiki_abstract_50w',)]\n"
     ]
    }
   ],
   "source": [
    "# Create a table.\n",
    "client.command(f\"DROP TABLE IF EXISTS {database}.{table} sync;\")\n",
    "client.command(f\"\"\"CREATE TABLE {database}.{table}\n",
    "(\n",
    "    `id` UInt64,\n",
    "    `body` String,\n",
    "    `title` String,\n",
    "    `url` String,\n",
    "    `body_vector` Array(Float32),\n",
    "    CONSTRAINT check_length CHECK length(body_vector) = 384\n",
    ")\n",
    "ENGINE = MergeTree\n",
    "ORDER BY id;\"\"\")\n",
    "print(f\"Tables in cluster:{client.query('SHOW tables').result_rows}\")"
   ]
  },
  {
   "cell_type": "markdown",
   "metadata": {},
   "source": [
    "⏫ Then, we will upload the dataset to the MyScale Cluster."
   ]
  },
  {
   "cell_type": "code",
   "execution_count": 34,
   "metadata": {},
   "outputs": [
    {
     "name": "stdout",
     "output_type": "stream",
     "text": [
      "Start uploading data from S3 to MyScale.\n"
     ]
    },
    {
     "name": "stderr",
     "output_type": "stream",
     "text": [
      "Unexpected Http Driver Exception\n"
     ]
    },
    {
     "name": "stdout",
     "output_type": "stream",
     "text": [
      "Upload data from S3 to MyScale may need more time.\n",
      "Rows in Table:466944, time consume:35.30 sec.\n",
      "Data has been uploaded completely.\n",
      "Total upload time consume:36.53 sec.\n",
      "Rows in Table:500000\n"
     ]
    }
   ],
   "source": [
    "# Upload data from S3.\n",
    "time_upload_data_begin = time.time()\n",
    "try:\n",
    "    print(f\"Start uploading data from S3 to MyScale.\")\n",
    "    client.command(\n",
    "        f\"INSERT INTO {database}.{table} SELECT * FROM s3('{dataset_url}','Parquet');\")\n",
    "except Exception as e:\n",
    "    print(\"Upload data from S3 to MyScale may need more time.\")\n",
    "    _client = get_client(host, port, username, password)\n",
    "    while True:\n",
    "        rows_count = _client.query(f\"SELECT count(*) from {database}.{table}\").result_rows[0][0]\n",
    "        if rows_count >= dataset_rows:\n",
    "            print(\"\\nData has been uploaded completely.\")\n",
    "            break\n",
    "        else:\n",
    "            print(f\"\\rRows in Table:{rows_count}, time consume:{(time.time() - time_upload_data_begin):.2f} sec.\",\n",
    "                  end='', flush=True)\n",
    "        time.sleep(1)\n",
    "print(f\"Total upload time consume:{(time.time() - time_upload_data_begin):.2f} sec.\")\n",
    "\n",
    "print(f\"Rows in Table:{client.query(f'SELECT count(*) from {database}.{table}').result_rows[0][0]}\")\n"
   ]
  },
  {
   "cell_type": "markdown",
   "metadata": {},
   "source": [
    "We will create a vector index to accelerate vector search speed."
   ]
  },
  {
   "cell_type": "code",
   "execution_count": 35,
   "metadata": {},
   "outputs": [
    {
     "name": "stdout",
     "output_type": "stream",
     "text": [
      "Building vector index, status is Built, time consume:64.23 sec. sec.\n",
      "Total index build time consume:64.24 sec.\n"
     ]
    }
   ],
   "source": [
    "# Create a vector index.\n",
    "time_build_index_begin = time.time()\n",
    "client.command(f\"OPTIMIZE TABLE {database}.{table} FINAL;\")\n",
    "client.command(\n",
    "    f\"ALTER TABLE {database}.{table} ADD VECTOR INDEX WIKI_MSTG body_vector TYPE MSTG('metric_type=Cosine');\")\n",
    "while True:\n",
    "    try:\n",
    "        status = client.query(\n",
    "            f\"SELECT status FROM system.vector_indices \"\n",
    "            f\"WHERE CASE WHEN database = '{database}' AND table = '{table}' THEN 1 ELSE 0 END\").result_rows[0][0]\n",
    "        print(f\"\\rBuilding vector index, status is {status}, \"\n",
    "            f\"time consume:{(time.time() - time_build_index_begin):.2f} sec.\", end='', flush=True)\n",
    "        if status == 'Built':\n",
    "            break\n",
    "        time.sleep(1)\n",
    "    except Exception as e:\n",
    "        print(f\"Exception happened when getting vector index build status, {e}\")\n",
    "print(f\"\\nTotal index build time consume:{(time.time() - time_build_index_begin):.2f} sec.\")\n"
   ]
  },
  {
   "cell_type": "markdown",
   "metadata": {},
   "source": [
    "It is clear that using a pure vector search for short-text phrases has limitations.\n",
    "\n",
    "For instance: let's convert the phrase \"BGLE Island\" into a vector, conduct a vector search, and look at the results."
   ]
  },
  {
   "cell_type": "code",
   "execution_count": 36,
   "metadata": {},
   "outputs": [
    {
     "name": "stdout",
     "output_type": "stream",
     "text": [
      "|   ID   |          Title          |                        Body                        |  vector_distance   |\n",
      "|:------:|:-----------------------:|:--------------------------------------------------:|:------------------:|\n",
      "| 356292 |  O'Brien Island, Chile  |                    Brien Island                    | 0.4032055139541626 |\n",
      "| 393545 |    Gorgon gas project   |              | place = Barrow Island               | 0.4499066472053528 |\n",
      "| 123268 | Geography of Montserrat |        | archipelago      = Leeward Islands        | 0.4716024398803711 |\n",
      "| 127502 |       Saint Kitts       |          | archipelago = Leeward Islands           | 0.4716024398803711 |\n",
      "| 17716  |        Baltic Sea       | (slightly east of the north tip of Gotland Island) | 0.4798816442489624 |\n"
     ]
    }
   ],
   "source": [
    "# Hybrid Search\n",
    "terms = \"BGLE Island\"\n",
    "terms_embedding = model.encode([terms])[0]\n",
    "terms_pattern = [f'(?i){x}' for x in terms.split(' ')]\n",
    "\n",
    "# Stage 1. Vector Recall\n",
    "stage1 = f\"\"\"\n",
    "SELECT id, title, body, distance('alpha=1') (body_vector,{list(terms_embedding)}) AS distance FROM {database}.{table}\n",
    "ORDER BY distance ASC LIMIT 200\"\"\"\n",
    "\n",
    "stage1_result = client.query(query=stage1)\n",
    "print_results(stage1_result.result_rows[:5], [\"ID\", \"Title\", \"Body\", \"vector_distance\"])\n"
   ]
  },
  {
   "cell_type": "markdown",
   "metadata": {},
   "source": [
    "Let's use a hybrid search to improve result accuracy instead of relying solely on vector search for shorter phrases or single words. For example, for the term \"`BGLE Island`\", we will follow a `two-stage` approach:\n",
    "- Use a vector search to identify the top `200` candidates\n",
    "- Use MyScale's built-in functions and a simplified `TF-IDF` (term frequency-inverse document frequency) method to reorganize and refine these results\n"
   ]
  },
  {
   "cell_type": "code",
   "execution_count": 37,
   "metadata": {},
   "outputs": [
    {
     "name": "stdout",
     "output_type": "stream",
     "text": [
      "|   ID   |          Title           |                                                                                                                                                             Body                                                                                                                                                             | FQ |       TF_IDF       |\n",
      "|:------:|:------------------------:|:----------------------------------------------------------------------------------------------------------------------------------------------------------------------------------------------------------------------------------------------------------------------------------------------------------------------------:|:--:|:------------------:|\n",
      "| 50978  |      Trump Islands       |                                     Trump Islands () is a small group of islands lying 4 nautical miles (7 km) southwest of Dodman Island, off the west coast of Graham Land. The islands were discovered and named by the British Graham Land Expedition (BGLE), 1934–37, under Rymill.                                     | 2  | 1.945910148700207  |\n",
      "| 328366 |        Tot Island        |                                                        Tot Island () is a small island lying just north of the northeast end of Lahille Island, off the west coast of Graham Land. First charted by the British Graham Land Expedition (BGLE) under Rymill, 1934-37.                                                         | 2  | 1.7917594699409376 |\n",
      "| 50899  |     Trigonia Island      |                   Trigonia Island () is a small island immediately off the south tip of Beer Island, lying 8 nautical miles (15 km) west of Prospect Point, off the west coast of Graham Land, Antarctica.  It was charted and named by the British Graham Land Expedition (BGLE), 1934–37, under Rymill.                    | 2  | 1.7917594699409376 |\n",
      "| 56469  |      Hansen Island       | Hansen Island () is an island  long and  wide, lying immediately north of The Gullet at the head of Hanusse Bay, off the west coast of Graham Land, Antarctica. It was first surveyed in 1936 by the British Graham Land Expedition (BGLE) under John Rymill, who used the provisional name \"North Island\" for this feature. | 2  | 1.7917594699409376 |\n",
      "| 330665 |      Riddle Islands      |                                                       Riddle Islands () is a small group of islands lying off the southwest end of Chavez Island, off the west coast of Graham Land. First charted by the British Graham Land Expedition (BGLE) under Rymill, 1934-37.                                                       | 2  | 1.7917594699409376 |\n",
      "| 201254 |        Skua Creek        |           Skua Creek () is a narrow channel between Skua Island and Winter Island in the Argentine Islands, Wilhelm Archipelago. Charted and named Skua Inlet in 1935 by the British Graham Land Expedition (BGLE) under Rymill, but in recent years the name Skua Creek has overtaken the earlier name in usage.            | 2  | 1.6094379132876024 |\n",
      "| 200245 |      Salmon Island       |                                                                        Salmon Island () is the westernmost of the Fish Islands, lying off the west coast of Graham Land. Charted by the British Graham Land Expedition (BGLE) under Rymill, 1934-37.                                                                         | 2  | 1.6094379132876024 |\n",
      "| 197443 |      Tadpole Island      |                                                                           Tadpole Island () is an island just north of Ferin Head, off the west coast of Graham Land. Charted by the British Graham Land Expedition (BGLE) under Rymill, 1934-37.                                                                            | 2  | 1.6094379132876024 |\n",
      "| 466090 | The Narrows (Antarctica) |                The Narrows () is a narrow channel between Pourquoi Pas Island and Blaiklock Island, connecting Bigourdan Fjord and Bourgeois Fjord off the west coast of Graham Land. It was discovered and given this descriptive name by the British Graham Land Expedition (BGLE), 1934–37, under Rymill.                 | 2  | 1.3862943611198906 |\n",
      "| 202830 |        Sooty Rock        |                                                                   Sooty Rock () is a rock midway between Lumus Rock and Betheder Islands in Wilhelm Archipelago. Discovered and named \"Black Reef\" by the British Graham Land Expedition (BGLE), 1934-37.                                                                    | 2  | 1.0986122893809924 |\n"
     ]
    }
   ],
   "source": [
    "\n",
    "# Stage 2. Term Reranking\n",
    "stage2 = f\"\"\"\n",
    "SELECT tempt.id, tempt.title,tempt.body, FQ, TF_IDF FROM ({stage1}) tempt\n",
    "ORDER BY length(multiMatchAllIndices(arrayStringConcat([body, title], ' '), {terms_pattern})) AS FQ DESC,\n",
    "log(1 + countMatches(arrayStringConcat([title, body], ' '), '(?i)({terms.replace(' ', '|')})')) AS TF_IDF DESC limit 10\n",
    "\"\"\"\n",
    "\n",
    "stage2_result = client.query(query=stage2)\n",
    "print_results(stage2_result.result_rows, [\"ID\", \"Title\", \"Body\", \"FQ\", \"TF_IDF\"])"
   ]
  }
 ],
 "metadata": {
  "kernelspec": {
   "display_name": "myTools",
   "language": "python",
   "name": "python3"
  },
  "language_info": {
   "codemirror_mode": {
    "name": "ipython",
    "version": 3
   },
   "file_extension": ".py",
   "mimetype": "text/x-python",
   "name": "python",
   "nbconvert_exporter": "python",
   "pygments_lexer": "ipython3",
   "version": "3.8.16"
  }
 },
 "nbformat": 4,
 "nbformat_minor": 2
}
